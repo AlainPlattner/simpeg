{
 "cells": [
  {
   "cell_type": "code",
   "execution_count": 1,
   "metadata": {},
   "outputs": [],
   "source": [
    "import numpy as np\n",
    "import matplotlib.pyplot as plt\n",
    "import discretize\n",
    "from SimPEG import (\n",
    "    simulation, survey, data, maps, regularization, data_misfit, \n",
    "    optimization, inverse_problem, inversion, directives\n",
    ") \n",
    "\n",
    "%matplotlib inline"
   ]
  },
  {
   "cell_type": "code",
   "execution_count": 11,
   "metadata": {},
   "outputs": [],
   "source": [
    "mesh = discretize.TensorMesh([100])\n",
    "sim = simulation.ExponentialSinusoidSimulation(\n",
    "    mesh=mesh, model_map=maps.IdentityMap(mesh), n_kernels=20\n",
    ")"
   ]
  },
  {
   "cell_type": "code",
   "execution_count": 3,
   "metadata": {},
   "outputs": [
    {
     "data": {
      "text/plain": [
       "[<matplotlib.lines.Line2D at 0x122f2a908>]"
      ]
     },
     "execution_count": 3,
     "metadata": {},
     "output_type": "execute_result"
    },
    {
     "data": {
      "image/png": "[encoded data removed]",
      "text/plain": [
       "<Figure size 432x288 with 1 Axes>"
      ]
     },
     "metadata": {
      "needs_background": "light"
     },
     "output_type": "display_data"
    }
   ],
   "source": [
    "box_car_x = np.r_[0.4, 0.6]\n",
    "\n",
    "model = np.zeros(mesh.nC)\n",
    "model[(mesh.vectorCCx>=box_car_x[0]) & (mesh.vectorCCx<=box_car_x[1])] = 1.\n",
    "\n",
    "plt.plot(mesh.vectorCCx, model)"
   ]
  },
  {
   "cell_type": "code",
   "execution_count": 12,
   "metadata": {},
   "outputs": [],
   "source": [
    "data = sim.make_synthetic_data(model, standard_deviation=0.02)\n",
    "data.noise_floor = 1e-3"
   ]
  },
  {
   "cell_type": "code",
   "execution_count": 16,
   "metadata": {},
   "outputs": [
    {
     "data": {
      "text/plain": [
       "<SimPEG.survey.BaseSurvey at 0x120e1fa90>"
      ]
     },
     "execution_count": 16,
     "metadata": {},
     "output_type": "execute_result"
    }
   ],
   "source": [
    "sim.survey"
   ]
  },
  {
   "cell_type": "code",
   "execution_count": 5,
   "metadata": {},
   "outputs": [
    {
     "data": {
      "text/plain": [
       "[<matplotlib.lines.Line2D at 0x1230263c8>]"
      ]
     },
     "execution_count": 5,
     "metadata": {},
     "output_type": "execute_result"
    },
    {
     "data": {
      "image/png": "[encoded data removed]",
      "text/plain": [
       "<Figure size 432x288 with 1 Axes>"
      ]
     },
     "metadata": {
      "needs_background": "light"
     },
     "output_type": "display_data"
    }
   ],
   "source": [
    "plt.plot(data.dobs, 'o')"
   ]
  },
  {
   "cell_type": "code",
   "execution_count": 6,
   "metadata": {},
   "outputs": [],
   "source": [
    "reg = regularization.Tikhonov(mesh, alpha_s=1, alpha_x=1)\n",
    "dmis = data_misfit.L2DataMisfit(simulation=sim, data=data)"
   ]
  },
  {
   "cell_type": "code",
   "execution_count": 7,
   "metadata": {},
   "outputs": [],
   "source": [
    "opt = optimization.InexactGaussNewton()\n",
    "invprob = inverse_problem.BaseInvProblem(dmis, reg, opt)"
   ]
  },
  {
   "cell_type": "code",
   "execution_count": 8,
   "metadata": {},
   "outputs": [],
   "source": [
    "invProb = inverse_problem.BaseInvProblem(dmis, reg, opt)\n",
    "directive_list = [\n",
    "    directives.BetaEstimate_ByEig(beta0_ratio=1e-2),\n",
    "    directives.TargetMisfit()\n",
    "]\n",
    "\n",
    "inv = inversion.BaseInversion(invProb, directiveList=directive_list)"
   ]
  },
  {
   "cell_type": "code",
   "execution_count": 9,
   "metadata": {},
   "outputs": [
    {
     "name": "stdout",
     "output_type": "stream",
     "text": [
      "SimPEG.InvProblem will set Regularization.mref to m0.\n",
      "\n",
      "    SimPEG.InvProblem is setting bfgsH0 to the inverse of the eval2Deriv.\n",
      "    ***Done using same Solver and solverOpts as the problem***\n",
      "model has any nan: 0\n",
      "============================ Inexact Gauss Newton ============================\n",
      "  #     beta     phi_d     phi_m       f      |proj(x-g)-x|  LS    Comment   \n",
      "-----------------------------------------------------------------------------\n",
      "x0 has any nan: 0\n",
      "   0  5.01e-02  1.57e+03  0.00e+00  1.57e+03    9.11e+02      0              \n",
      "   1  5.01e-02  5.06e+01  3.30e+00  5.08e+01    1.62e+02      0              \n",
      "   2  5.01e-02  2.01e+01  4.76e+00  2.03e+01    8.59e+01      0              \n",
      "   3  5.01e-02  9.23e+00  5.76e+00  9.52e+00    1.06e+02      0   Skip BFGS  \n",
      "   4  5.01e-02  5.82e+00  6.22e+00  6.14e+00    4.47e+01      0              \n",
      "   5  5.01e-02  4.20e+00  6.69e+00  4.54e+00    5.19e+01      0              \n",
      "   6  5.01e-02  2.93e+00  7.56e+00  3.31e+00    2.23e+01      0              \n",
      "   7  5.01e-02  2.43e+00  8.08e+00  2.83e+00    2.52e+01      0   Skip BFGS  \n",
      "   8  5.01e-02  2.24e+00  7.64e+00  2.62e+00    2.23e+01      0              \n",
      "   9  5.01e-02  2.07e+00  7.68e+00  2.45e+00    2.79e+01      0   Skip BFGS  \n",
      "  10  5.01e-02  1.94e+00  7.81e+00  2.33e+00    2.08e+01      0              \n",
      "  11  5.01e-02  1.70e+00  7.77e+00  2.09e+00    2.39e+01      0              \n",
      "  12  5.01e-02  1.52e+00  8.22e+00  1.93e+00    2.41e+01      0              \n",
      "  13  5.01e-02  1.41e+00  8.12e+00  1.81e+00    2.55e+01      0              \n",
      "  14  5.01e-02  1.23e+00  8.64e+00  1.66e+00    2.21e+01      0              \n",
      "  15  5.01e-02  1.11e+00  9.02e+00  1.56e+00    1.96e+01      0   Skip BFGS  \n",
      "  16  5.01e-02  1.05e+00  8.87e+00  1.50e+00    2.12e+01      0              \n",
      "  17  5.01e-02  4.03e-01  9.09e+00  8.58e-01    9.11e+00      0   Skip BFGS  \n",
      "  18  5.01e-02  3.09e-01  9.24e+00  7.72e-01    8.81e+00      0              \n",
      "  19  5.01e-02  2.64e-01  9.42e+00  7.36e-01    1.07e+01      0   Skip BFGS  \n",
      "  20  5.01e-02  2.47e-01  9.31e+00  7.13e-01    7.53e+00      0              \n",
      "------------------------- STOP! -------------------------\n",
      "1 : |fc-fOld| = 2.2843e-02 <= tolF*(1+|f0|) = 1.5708e+02\n",
      "1 : |xc-x_last| = 2.3317e-02 <= tolX*(1+|x0|) = 1.0000e-01\n",
      "0 : |proj(x-g)-x|    = 7.5274e+00 <= tolG          = 1.0000e-01\n",
      "0 : |proj(x-g)-x|    = 7.5274e+00 <= 1e3*eps       = 1.0000e-02\n",
      "1 : maxIter   =      20    <= iter          =     20\n",
      "------------------------- DONE! -------------------------\n"
     ]
    }
   ],
   "source": [
    "mrec = inv.run(np.zeros(mesh.nC))"
   ]
  },
  {
   "cell_type": "code",
   "execution_count": 10,
   "metadata": {},
   "outputs": [
    {
     "data": {
      "text/plain": [
       "[<matplotlib.lines.Line2D at 0x1230546a0>]"
      ]
     },
     "execution_count": 10,
     "metadata": {},
     "output_type": "execute_result"
    },
    {
     "data": {
      "image/png": "[encoded data removed]",
      "text/plain": [
       "<Figure size 432x288 with 1 Axes>"
      ]
     },
     "metadata": {
      "needs_background": "light"
     },
     "output_type": "display_data"
    }
   ],
   "source": [
    "plt.plot(mesh.vectorCCx, model)\n",
    "plt.plot(mesh.vectorCCx, mrec)"
   ]
  },
  {
   "cell_type": "code",
   "execution_count": null,
   "metadata": {},
   "outputs": [],
   "source": []
  },
  {
   "cell_type": "code",
   "execution_count": null,
   "metadata": {},
   "outputs": [],
   "source": []
  }
 ],
 "metadata": {
  "kernelspec": {
   "display_name": "Python 3",
   "language": "python",
   "name": "python3"
  },
  "language_info": {
   "codemirror_mode": {
    "name": "ipython",
    "version": 3
   },
   "file_extension": ".py",
   "mimetype": "text/x-python",
   "name": "python",
   "nbconvert_exporter": "python",
   "pygments_lexer": "ipython3",
   "version": "3.6.7"
  }
 },
 "nbformat": 4,
 "nbformat_minor": 2
}
